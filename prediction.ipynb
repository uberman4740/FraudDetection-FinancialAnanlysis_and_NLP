{
 "cells": [
  {
   "cell_type": "code",
   "execution_count": 8,
   "metadata": {
    "collapsed": true
   },
   "outputs": [],
   "source": [
    "import pickle\n",
    "import pandas as pd"
   ]
  },
  {
   "cell_type": "code",
   "execution_count": 12,
   "metadata": {},
   "outputs": [],
   "source": [
    "# help (pd.read_pickle)\n",
    "df = pd.read_pickle(\"/Users/karansagoo/PycharmProjects/Resume/Enron_Report/data/enron_cleaned_dataframe.pkl\")"
   ]
  },
  {
   "cell_type": "code",
   "execution_count": 13,
   "metadata": {},
   "outputs": [
    {
     "data": {
      "text/plain": [
       "Index([u'poi', u'to_messages', u'deferral_payments', u'total_payments',\n       u'exercised_stock_options', u'bonus', u'restricted_stock',\n       u'shared_receipt_with_poi', u'restricted_stock_deferred',\n       u'total_stock_value', u'expenses', u'loan_advances', u'from_messages',\n       u'other', u'from_this_person_to_poi', u'salary', u'director_fees',\n       u'deferred_income', u'long_term_incentive', u'email_address',\n       u'from_poi_to_this_person', u'name'],\n      dtype='object')"
      ]
     },
     "execution_count": 13,
     "metadata": {},
     "output_type": "execute_result"
    }
   ],
   "source": [
    "df.columns"
   ]
  },
  {
   "cell_type": "code",
   "execution_count": 14,
   "metadata": {},
   "outputs": [
    {
     "name": "stdout",
     "output_type": "stream",
     "text": [
      "<class 'pandas.core.frame.DataFrame'>\nRangeIndex: 145 entries, 0 to 144\nData columns (total 22 columns):\npoi                          145 non-null float64\nto_messages                  145 non-null float64\ndeferral_payments            145 non-null float64\ntotal_payments               145 non-null float64\nexercised_stock_options      145 non-null float64\nbonus                        145 non-null float64\nrestricted_stock             145 non-null float64\nshared_receipt_with_poi      145 non-null float64\nrestricted_stock_deferred    145 non-null float64\ntotal_stock_value            145 non-null float64\nexpenses                     145 non-null float64\nloan_advances                145 non-null float64\nfrom_messages                145 non-null float64\nother                        145 non-null float64\nfrom_this_person_to_poi      145 non-null float64\nsalary                       145 non-null float64\ndirector_fees                145 non-null float64\ndeferred_income              145 non-null float64\nlong_term_incentive          145 non-null float64\nemail_address                145 non-null object\nfrom_poi_to_this_person      145 non-null float64\nname                         145 non-null object\ndtypes: float64(20), object(2)\nmemory usage: 25.0+ KB\n"
     ]
    }
   ],
   "source": [
    "df.info()"
   ]
  },
  {
   "cell_type": "code",
   "execution_count": 15,
   "metadata": {},
   "outputs": [],
   "source": [
    "df.drop([\"email_address\", \"name\"], axis = 1,inplace = True)"
   ]
  },
  {
   "cell_type": "code",
   "execution_count": 16,
   "metadata": {},
   "outputs": [],
   "source": [
    "df.reset_index(drop = True,inplace = True)"
   ]
  },
  {
   "cell_type": "code",
   "execution_count": 17,
   "metadata": {},
   "outputs": [],
   "source": [
    "train_data = df.values\n",
    "features =train_data[0::,1::]\n",
    "labels = train_data[0::,0]"
   ]
  },
  {
   "cell_type": "code",
   "execution_count": null,
   "metadata": {},
   "outputs": [],
   "source": [
    "# Since our data set is small (~140 samples)\n",
    "#  Validation -> StratifiedShuffleSplit\n",
    "# Classify using \n",
    "# 1.SGD\n",
    "# 2.Kernel Approx\n",
    "\n",
    "#For deminsion reduction\n",
    "# 1.Use Randomized PCA"
   ]
  },
  {
   "cell_type": "code",
   "execution_count": 20,
   "metadata": {},
   "outputs": [],
   "source": [
    "from sklearn.cross_validation import StratifiedShuffleSplit\n",
    "\n",
    "\n",
    "\n",
    "### import GaussianNB\n",
    "from sklearn.naive_bayes import GaussianNB\n",
    "\n",
    "### import Decision Tree\n",
    "from sklearn import tree\n",
    "\n",
    "def classify_simple(features_list, print_result=False):\n",
    "    print \"Features list:\", features_list[1:]\n",
    "    \n",
    "    ### Set GaussianNB\n",
    "    clf_NB = GaussianNB()\n",
    "\n",
    "    ### Set Decision Tree\n",
    "    clf_tree = tree.DecisionTreeClassifier()\n",
    "    \n",
    "    ### Call test function and print out test\n",
    "    scores_NB = test(features_list,clf_NB, print_result=print_result)\n",
    "    tree_NB = test(features_list,clf_tree, print_result=print_result)\n",
    "    return [ scores_NB, tree_NB ]\n"
   ]
  },
  {
   "cell_type": "code",
   "execution_count": null,
   "metadata": {},
   "outputs": [],
   "source": [
    "classify_simple([\"poi\", \"salary\"],print_result=True)"
   ]
  },
  {
   "cell_type": "code",
   "execution_count": null,
   "outputs": [],
   "source": [
    ""
   ]
  }
 ],
 "metadata": {
  "kernelspec": {
   "display_name": "Python 2",
   "language": "python",
   "name": "python2"
  },
  "language_info": {
   "codemirror_mode": {
    "name": "ipython",
    "version": 2.0
   },
   "file_extension": ".py",
   "mimetype": "text/x-python",
   "name": "python",
   "nbconvert_exporter": "python",
   "pygments_lexer": "ipython2",
   "version": "2.7.6"
  }
 },
 "nbformat": 4,
 "nbformat_minor": 0
}